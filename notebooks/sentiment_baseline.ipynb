{
 "cells": [
  {
   "cell_type": "code",
   "execution_count": 4,
   "metadata": {},
   "outputs": [
    {
     "name": "stdout",
     "output_type": "stream",
     "text": [
      "              precision    recall  f1-score   support\n",
      "\n",
      "    negative       0.86      0.96      0.91      9178\n",
      "     neutral       0.82      0.63      0.71      3099\n",
      "    positive       0.88      0.73      0.80      2363\n",
      "\n",
      "    accuracy                           0.86     14640\n",
      "   macro avg       0.85      0.78      0.81     14640\n",
      "weighted avg       0.86      0.86      0.85     14640\n",
      "\n"
     ]
    },
    {
     "data": {
      "text/plain": [
       "['../models/tfidf.pkl']"
      ]
     },
     "execution_count": 4,
     "metadata": {},
     "output_type": "execute_result"
    }
   ],
   "source": [
    "import pandas as pd\n",
    "from sklearn.feature_extraction.text import TfidfVectorizer\n",
    "from sklearn.linear_model import LogisticRegression\n",
    "from sklearn.metrics import classification_report\n",
    "\n",
    "# Load dataset\n",
    "df = pd.read_csv(\"../data/Tweets.csv\")\n",
    "X = df[\"text\"]\n",
    "y = df[\"airline_sentiment\"]\n",
    "\n",
    "# Vectorize text\n",
    "vectorizer = TfidfVectorizer(stop_words=\"english\", max_features=5000)\n",
    "X_vec = vectorizer.fit_transform(X)\n",
    "\n",
    "# Train Logistic Regression\n",
    "clf = LogisticRegression(max_iter=200)\n",
    "clf.fit(X_vec, y)\n",
    "\n",
    "# Evaluate\n",
    "y_pred = clf.predict(X_vec)\n",
    "print(classification_report(y, y_pred))\n",
    "\n",
    "# Save model + vectorizer\n",
    "import joblib\n",
    "joblib.dump(clf, \"../models/logreg_model.pkl\")\n",
    "joblib.dump(vectorizer, \"../models/tfidf.pkl\")\n"
   ]
  }
 ],
 "metadata": {
  "kernelspec": {
   "display_name": "Python 3",
   "language": "python",
   "name": "python3"
  },
  "language_info": {
   "codemirror_mode": {
    "name": "ipython",
    "version": 3
   },
   "file_extension": ".py",
   "mimetype": "text/x-python",
   "name": "python",
   "nbconvert_exporter": "python",
   "pygments_lexer": "ipython3",
   "version": "3.13.7"
  }
 },
 "nbformat": 4,
 "nbformat_minor": 2
}
