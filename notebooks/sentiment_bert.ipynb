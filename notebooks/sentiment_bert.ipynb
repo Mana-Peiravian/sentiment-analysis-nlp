{
 "cells": [
  {
   "cell_type": "code",
   "execution_count": 1,
   "metadata": {},
   "outputs": [
    {
     "name": "stderr",
     "output_type": "stream",
     "text": [
      "c:\\Users\\Mana\\OneDrive\\Documents\\Github Projects\\sentiment-analysis-nlp\\sentiment-analysis-nlp\\.venv311\\Lib\\site-packages\\tqdm\\auto.py:21: TqdmWarning: IProgress not found. Please update jupyter and ipywidgets. See https://ipywidgets.readthedocs.io/en/stable/user_install.html\n",
      "  from .autonotebook import tqdm as notebook_tqdm\n"
     ]
    },
    {
     "name": "stdout",
     "output_type": "stream",
     "text": [
      "2.5.1+cu121 4.56.1\n"
     ]
    },
    {
     "name": "stderr",
     "output_type": "stream",
     "text": [
      "Device set to use cpu\n"
     ]
    },
    {
     "name": "stdout",
     "output_type": "stream",
     "text": [
      "[{'label': 'POSITIVE', 'score': 0.9998794794082642}]\n"
     ]
    }
   ],
   "source": [
    "import torch, transformers\n",
    "print(torch.__version__, transformers.__version__)\n",
    "from transformers import pipeline\n",
    "classifier = pipeline(\"sentiment-analysis\",\n",
    "                      model=\"distilbert/distilbert-base-uncased-finetuned-sst-2-english\",\n",
    "                      device=-1)  # set 0 if using GPU\n",
    "print(classifier(\"I love this flight!\"))\n"
   ]
  }
 ],
 "metadata": {
  "kernelspec": {
   "display_name": "Python 3",
   "language": "python",
   "name": "python3"
  },
  "language_info": {
   "codemirror_mode": {
    "name": "ipython",
    "version": 3
   },
   "file_extension": ".py",
   "mimetype": "text/x-python",
   "name": "python",
   "nbconvert_exporter": "python",
   "pygments_lexer": "ipython3",
   "version": "3.11.9"
  }
 },
 "nbformat": 4,
 "nbformat_minor": 2
}
